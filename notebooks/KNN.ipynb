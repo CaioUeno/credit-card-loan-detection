{
 "cells": [
  {
   "cell_type": "markdown",
   "metadata": {},
   "source": [
    "# from sklearn import datasets\n"
   ]
  },
  {
   "cell_type": "code",
   "execution_count": 31,
   "metadata": {},
   "outputs": [],
   "source": [
    "import pandas as pd\n",
    "import matplotlib.pyplot as plt\n",
    "from sklearn.neighbors import KNeighborsClassifier\n",
    "from sklearn.metrics import classification_report, confusion_matrix, accuracy_score"
   ]
  },
  {
   "cell_type": "markdown",
   "metadata": {},
   "source": [
    "### Teste com 1, 3 e 5 vizinhos"
   ]
  },
  {
   "cell_type": "code",
   "execution_count": 32,
   "metadata": {},
   "outputs": [],
   "source": [
    "def run_knn(X_train, y_train, X_test):\n",
    "    \n",
    "    neightbors_test = [5,12,25,60]\n",
    "    knns = []\n",
    "    \n",
    "    for i in neightbors_test:\n",
    "        knn = KNeighborsClassifier(n_neighbors=i,n_jobs=-1)\n",
    "        knn.fit(X_train, y_train.values.ravel())\n",
    "        resultado_predito = knn.predict(X_test)\n",
    "        knns.append(resultado_predito)\n",
    "        \n",
    "    return knns"
   ]
  },
  {
   "cell_type": "code",
   "execution_count": 33,
   "metadata": {},
   "outputs": [],
   "source": [
    "def print_results(knns,y_test):\n",
    "\n",
    "    neightbors_test = [5,12,25,60]\n",
    "    \n",
    "    for resultado,n_vizinho in zip(knns,neightbors_test):\n",
    "        print(\"Com {} vizinhos \\n\".format(n_vizinho))\n",
    "        print(\"Matriz de confusão\")\n",
    "        print(confusion_matrix(y_test, resultado))\n",
    "        print('\\n')\n",
    "        print(\"Relatório de Classificação\")\n",
    "        print(classification_report(y_test, resultado))\n",
    "        print(\"------------------------\")"
   ]
  },
  {
   "cell_type": "code",
   "execution_count": 34,
   "metadata": {},
   "outputs": [],
   "source": [
    "X_train = pd.read_csv('../data/Imbalanced_X_train.csv', index_col=['SK_ID_CURR'])\n",
    "y_train = pd.read_csv('../data/Imbalanced_y_train.csv')\n",
    "\n",
    "X_test = pd.read_csv('../data/Imbalanced_X_test.csv', index_col=['SK_ID_CURR'])\n",
    "y_test = pd.read_csv('../data/Imbalanced_y_test.csv')"
   ]
  },
  {
   "cell_type": "code",
   "execution_count": 35,
   "metadata": {},
   "outputs": [],
   "source": [
    "X_train_und = pd.read_csv('../data/Undersampled_X_train.csv', index_col=['SK_ID_CURR'])\n",
    "y_train_und = pd.read_csv('../data/Undersampled_y_train.csv')\n",
    "\n",
    "X_test_und = pd.read_csv('../data/Rescaled_undersampled_X_test.csv', index_col=['SK_ID_CURR'])"
   ]
  },
  {
   "cell_type": "markdown",
   "metadata": {},
   "source": [
    "## Desbalanceado"
   ]
  },
  {
   "cell_type": "code",
   "execution_count": 36,
   "metadata": {},
   "outputs": [],
   "source": [
    "knns_desb = run_knn(X_train,y_train,X_test)"
   ]
  },
  {
   "cell_type": "code",
   "execution_count": 37,
   "metadata": {},
   "outputs": [
    {
     "name": "stdout",
     "output_type": "stream",
     "text": [
      "Com 5 vizinhos \n",
      "\n",
      "Matriz de confusão\n",
      "[[83645   677]\n",
      " [ 7436   105]]\n",
      "\n",
      "\n",
      "Relatório de Classificação\n",
      "              precision    recall  f1-score   support\n",
      "\n",
      "           0       0.92      0.99      0.95     84322\n",
      "           1       0.13      0.01      0.03      7541\n",
      "\n",
      "    accuracy                           0.91     91863\n",
      "   macro avg       0.53      0.50      0.49     91863\n",
      "weighted avg       0.85      0.91      0.88     91863\n",
      "\n",
      "------------------------\n",
      "Com 12 vizinhos \n",
      "\n",
      "Matriz de confusão\n",
      "[[84308    14]\n",
      " [ 7539     2]]\n",
      "\n",
      "\n",
      "Relatório de Classificação\n",
      "              precision    recall  f1-score   support\n",
      "\n",
      "           0       0.92      1.00      0.96     84322\n",
      "           1       0.12      0.00      0.00      7541\n",
      "\n",
      "    accuracy                           0.92     91863\n",
      "   macro avg       0.52      0.50      0.48     91863\n",
      "weighted avg       0.85      0.92      0.88     91863\n",
      "\n",
      "------------------------\n",
      "Com 25 vizinhos \n",
      "\n",
      "Matriz de confusão\n",
      "[[84318     4]\n",
      " [ 7540     1]]\n",
      "\n",
      "\n",
      "Relatório de Classificação\n",
      "              precision    recall  f1-score   support\n",
      "\n",
      "           0       0.92      1.00      0.96     84322\n",
      "           1       0.20      0.00      0.00      7541\n",
      "\n",
      "    accuracy                           0.92     91863\n",
      "   macro avg       0.56      0.50      0.48     91863\n",
      "weighted avg       0.86      0.92      0.88     91863\n",
      "\n",
      "------------------------\n",
      "Com 60 vizinhos \n",
      "\n",
      "Matriz de confusão\n",
      "[[84322     0]\n",
      " [ 7541     0]]\n",
      "\n",
      "\n",
      "Relatório de Classificação\n",
      "              precision    recall  f1-score   support\n",
      "\n",
      "           0       0.92      1.00      0.96     84322\n",
      "           1       0.00      0.00      0.00      7541\n",
      "\n",
      "    accuracy                           0.92     91863\n",
      "   macro avg       0.46      0.50      0.48     91863\n",
      "weighted avg       0.84      0.92      0.88     91863\n",
      "\n",
      "------------------------\n"
     ]
    },
    {
     "name": "stderr",
     "output_type": "stream",
     "text": [
      "/home/viniciusc/.local/lib/python3.8/site-packages/sklearn/metrics/_classification.py:1221: UndefinedMetricWarning: Precision and F-score are ill-defined and being set to 0.0 in labels with no predicted samples. Use `zero_division` parameter to control this behavior.\n",
      "  _warn_prf(average, modifier, msg_start, len(result))\n"
     ]
    }
   ],
   "source": [
    "print_results(knns_desb,y_test)"
   ]
  },
  {
   "cell_type": "markdown",
   "metadata": {},
   "source": [
    "## Balanceado"
   ]
  },
  {
   "cell_type": "code",
   "execution_count": 38,
   "metadata": {},
   "outputs": [],
   "source": [
    "knns_bal = run_knn(X_train_und,y_train_und,X_test_und)"
   ]
  },
  {
   "cell_type": "code",
   "execution_count": 39,
   "metadata": {},
   "outputs": [
    {
     "name": "stdout",
     "output_type": "stream",
     "text": [
      "Com 5 vizinhos \n",
      "\n",
      "Matriz de confusão\n",
      "[[25382 58940]\n",
      " [ 2314  5227]]\n",
      "\n",
      "\n",
      "Relatório de Classificação\n",
      "              precision    recall  f1-score   support\n",
      "\n",
      "           0       0.92      0.30      0.45     84322\n",
      "           1       0.08      0.69      0.15      7541\n",
      "\n",
      "    accuracy                           0.33     91863\n",
      "   macro avg       0.50      0.50      0.30     91863\n",
      "weighted avg       0.85      0.33      0.43     91863\n",
      "\n",
      "------------------------\n",
      "Com 12 vizinhos \n",
      "\n",
      "Matriz de confusão\n",
      "[[31003 53319]\n",
      " [ 2776  4765]]\n",
      "\n",
      "\n",
      "Relatório de Classificação\n",
      "              precision    recall  f1-score   support\n",
      "\n",
      "           0       0.92      0.37      0.53     84322\n",
      "           1       0.08      0.63      0.15      7541\n",
      "\n",
      "    accuracy                           0.39     91863\n",
      "   macro avg       0.50      0.50      0.34     91863\n",
      "weighted avg       0.85      0.39      0.49     91863\n",
      "\n",
      "------------------------\n",
      "Com 25 vizinhos \n",
      "\n",
      "Matriz de confusão\n",
      "[[32827 51495]\n",
      " [ 2961  4580]]\n",
      "\n",
      "\n",
      "Relatório de Classificação\n",
      "              precision    recall  f1-score   support\n",
      "\n",
      "           0       0.92      0.39      0.55     84322\n",
      "           1       0.08      0.61      0.14      7541\n",
      "\n",
      "    accuracy                           0.41     91863\n",
      "   macro avg       0.50      0.50      0.35     91863\n",
      "weighted avg       0.85      0.41      0.51     91863\n",
      "\n",
      "------------------------\n",
      "Com 60 vizinhos \n",
      "\n",
      "Matriz de confusão\n",
      "[[38652 45670]\n",
      " [ 3456  4085]]\n",
      "\n",
      "\n",
      "Relatório de Classificação\n",
      "              precision    recall  f1-score   support\n",
      "\n",
      "           0       0.92      0.46      0.61     84322\n",
      "           1       0.08      0.54      0.14      7541\n",
      "\n",
      "    accuracy                           0.47     91863\n",
      "   macro avg       0.50      0.50      0.38     91863\n",
      "weighted avg       0.85      0.47      0.57     91863\n",
      "\n",
      "------------------------\n"
     ]
    }
   ],
   "source": [
    "print_results(knns_bal,y_test)"
   ]
  },
  {
   "cell_type": "code",
   "execution_count": null,
   "metadata": {},
   "outputs": [],
   "source": []
  },
  {
   "cell_type": "code",
   "execution_count": null,
   "metadata": {},
   "outputs": [],
   "source": []
  }
 ],
 "metadata": {
  "kernelspec": {
   "display_name": "Python 3",
   "language": "python",
   "name": "python3"
  },
  "language_info": {
   "codemirror_mode": {
    "name": "ipython",
    "version": 3
   },
   "file_extension": ".py",
   "mimetype": "text/x-python",
   "name": "python",
   "nbconvert_exporter": "python",
   "pygments_lexer": "ipython3",
   "version": "3.8.5"
  }
 },
 "nbformat": 4,
 "nbformat_minor": 4
}
