{
 "cells": [
  {
   "cell_type": "code",
   "execution_count": 7,
   "metadata": {},
   "outputs": [],
   "source": [
    "from sklearn import datasets\n",
    "import pandas as pd\n",
    "import matplotlib.pyplot as plt\n",
    "from sklearn.neighbors import KNeighborsClassifier\n",
    "from sklearn.metrics import classification_report, confusion_matrix, accuracy_score"
   ]
  },
  {
   "cell_type": "markdown",
   "metadata": {},
   "source": [
    "### Teste com 1, 3 e 5 vizinhos"
   ]
  },
  {
   "cell_type": "code",
   "execution_count": 8,
   "metadata": {},
   "outputs": [],
   "source": [
    "def run_knn(X_train, y_train, X_test):\n",
    "    \n",
    "    neightbors_test = [1,3,5]\n",
    "    knns = []\n",
    "    \n",
    "    for i in neightbors_test:\n",
    "        knn = KNeighborsClassifier(n_neighbors=i,n_jobs=-1)\n",
    "        knn.fit(X_train, y_train.values.ravel())\n",
    "        resultado_predito = knn.predict(X_test)\n",
    "        knns.append(resultado_predito)\n",
    "        \n",
    "    return knns"
   ]
  },
  {
   "cell_type": "code",
   "execution_count": 14,
   "metadata": {},
   "outputs": [],
   "source": [
    "def print_results(knns,y_test):\n",
    "\n",
    "    neightbors_test = [1,3,5]\n",
    "    \n",
    "    for resultado,n_vizinho in zip(knns,neightbors_test):\n",
    "        print(\"Com {} vizinhos \\n\".format(n_vizinho))\n",
    "        print(\"Matriz de confusão\")\n",
    "        print(confusion_matrix(y_test, resultado))\n",
    "        print('\\n')\n",
    "        print(\"Relatório de Classificação\")\n",
    "        print(classification_report(y_test, resultado))\n",
    "        print(\"------------------------\")"
   ]
  },
  {
   "cell_type": "code",
   "execution_count": 10,
   "metadata": {},
   "outputs": [],
   "source": [
    "X_train = pd.read_csv('../data/Imbalanced_X_train.csv', index_col=['SK_ID_CURR'])\n",
    "y_train = pd.read_csv('../data/Imbalanced_y_train.csv')\n",
    "\n",
    "X_test = pd.read_csv('../data/Imbalanced_X_test.csv', index_col=['SK_ID_CURR'])\n",
    "y_test = pd.read_csv('../data/Imbalanced_y_test.csv')"
   ]
  },
  {
   "cell_type": "code",
   "execution_count": 21,
   "metadata": {},
   "outputs": [],
   "source": [
    "X_train_und = pd.read_csv('../data/Undersampled_X_train.csv', index_col=['SK_ID_CURR'])\n",
    "y_train_und = pd.read_csv('../data/Undersampled_y_train.csv')\n",
    "\n",
    "X_test_und = pd.read_csv('../data/Rescaled_undersampled_X_test.csv', index_col=['SK_ID_CURR'])"
   ]
  },
  {
   "cell_type": "markdown",
   "metadata": {},
   "source": [
    "## Desbalanceado"
   ]
  },
  {
   "cell_type": "code",
   "execution_count": 12,
   "metadata": {},
   "outputs": [],
   "source": [
    "knns_desb = run_knn(X_train,y_train,X_test)"
   ]
  },
  {
   "cell_type": "code",
   "execution_count": 15,
   "metadata": {},
   "outputs": [
    {
     "name": "stdout",
     "output_type": "stream",
     "text": [
      "Com 1 vizinhos \n",
      "\n",
      "Matriz de confusão\n",
      "[[77728  6594]\n",
      " [ 6783   758]]\n",
      "\n",
      "\n",
      "Relatório de Classificação\n",
      "              precision    recall  f1-score   support\n",
      "\n",
      "           0       0.92      0.92      0.92     84322\n",
      "           1       0.10      0.10      0.10      7541\n",
      "\n",
      "    accuracy                           0.85     91863\n",
      "   macro avg       0.51      0.51      0.51     91863\n",
      "weighted avg       0.85      0.85      0.85     91863\n",
      "\n",
      "------------------------\n",
      "Com 3 vizinhos \n",
      "\n",
      "Matriz de confusão\n",
      "[[82479  1843]\n",
      " [ 7280   261]]\n",
      "\n",
      "\n",
      "Relatório de Classificação\n",
      "              precision    recall  f1-score   support\n",
      "\n",
      "           0       0.92      0.98      0.95     84322\n",
      "           1       0.12      0.03      0.05      7541\n",
      "\n",
      "    accuracy                           0.90     91863\n",
      "   macro avg       0.52      0.51      0.50     91863\n",
      "weighted avg       0.85      0.90      0.87     91863\n",
      "\n",
      "------------------------\n",
      "Com 5 vizinhos \n",
      "\n",
      "Matriz de confusão\n",
      "[[83645   677]\n",
      " [ 7436   105]]\n",
      "\n",
      "\n",
      "Relatório de Classificação\n",
      "              precision    recall  f1-score   support\n",
      "\n",
      "           0       0.92      0.99      0.95     84322\n",
      "           1       0.13      0.01      0.03      7541\n",
      "\n",
      "    accuracy                           0.91     91863\n",
      "   macro avg       0.53      0.50      0.49     91863\n",
      "weighted avg       0.85      0.91      0.88     91863\n",
      "\n",
      "------------------------\n"
     ]
    }
   ],
   "source": [
    "print_results(knns_desb,y_test)"
   ]
  },
  {
   "cell_type": "markdown",
   "metadata": {},
   "source": [
    "## Balanceado"
   ]
  },
  {
   "cell_type": "code",
   "execution_count": 23,
   "metadata": {},
   "outputs": [],
   "source": [
    "knns_bal = run_knn(X_train_und,y_train_und,X_test_und)"
   ]
  },
  {
   "cell_type": "code",
   "execution_count": 24,
   "metadata": {},
   "outputs": [
    {
     "name": "stdout",
     "output_type": "stream",
     "text": [
      "Com 1 vizinhos \n",
      "\n",
      "Matriz de confusão\n",
      "[[20464 63858]\n",
      " [ 1871  5670]]\n",
      "\n",
      "\n",
      "Relatório de Classificação\n",
      "              precision    recall  f1-score   support\n",
      "\n",
      "           0       0.92      0.24      0.38     84322\n",
      "           1       0.08      0.75      0.15      7541\n",
      "\n",
      "    accuracy                           0.28     91863\n",
      "   macro avg       0.50      0.50      0.27     91863\n",
      "weighted avg       0.85      0.28      0.36     91863\n",
      "\n",
      "------------------------\n",
      "Com 3 vizinhos \n",
      "\n",
      "Matriz de confusão\n",
      "[[23519 60803]\n",
      " [ 2141  5400]]\n",
      "\n",
      "\n",
      "Relatório de Classificação\n",
      "              precision    recall  f1-score   support\n",
      "\n",
      "           0       0.92      0.28      0.43     84322\n",
      "           1       0.08      0.72      0.15      7541\n",
      "\n",
      "    accuracy                           0.31     91863\n",
      "   macro avg       0.50      0.50      0.29     91863\n",
      "weighted avg       0.85      0.31      0.40     91863\n",
      "\n",
      "------------------------\n",
      "Com 5 vizinhos \n",
      "\n",
      "Matriz de confusão\n",
      "[[25382 58940]\n",
      " [ 2314  5227]]\n",
      "\n",
      "\n",
      "Relatório de Classificação\n",
      "              precision    recall  f1-score   support\n",
      "\n",
      "           0       0.92      0.30      0.45     84322\n",
      "           1       0.08      0.69      0.15      7541\n",
      "\n",
      "    accuracy                           0.33     91863\n",
      "   macro avg       0.50      0.50      0.30     91863\n",
      "weighted avg       0.85      0.33      0.43     91863\n",
      "\n",
      "------------------------\n"
     ]
    }
   ],
   "source": [
    "print_results(knns_bal,y_test)"
   ]
  },
  {
   "cell_type": "code",
   "execution_count": null,
   "metadata": {},
   "outputs": [],
   "source": []
  }
 ],
 "metadata": {
  "kernelspec": {
   "display_name": "Python 3",
   "language": "python",
   "name": "python3"
  },
  "language_info": {
   "codemirror_mode": {
    "name": "ipython",
    "version": 3
   },
   "file_extension": ".py",
   "mimetype": "text/x-python",
   "name": "python",
   "nbconvert_exporter": "python",
   "pygments_lexer": "ipython3",
   "version": "3.8.5"
  }
 },
 "nbformat": 4,
 "nbformat_minor": 4
}
