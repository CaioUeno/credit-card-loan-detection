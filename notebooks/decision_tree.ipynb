{
  "nbformat": 4,
  "nbformat_minor": 0,
  "metadata": {
    "colab": {
      "name": "decision-tree.ipynb",
      "provenance": [],
      "collapsed_sections": []
    },
    "kernelspec": {
      "display_name": "Python 3",
      "language": "python",
      "name": "python3"
    },
    "language_info": {
      "codemirror_mode": {
        "name": "ipython",
        "version": 3
      },
      "file_extension": ".py",
      "mimetype": "text/x-python",
      "name": "python",
      "nbconvert_exporter": "python",
      "pygments_lexer": "ipython3",
      "version": "3.8.5"
    }
  },
  "cells": [
    {
      "cell_type": "markdown",
      "metadata": {
        "id": "dPIXY8bSAN0t"
      },
      "source": [
        "The positive class (1) indicates a client that has payment difficulties, that is, he/she had late payment more than X days on at least one of the first Y installments of the loan in the sample.\n",
        "The negative class (0) indicates all other cases."
      ]
    },
    {
      "cell_type": "code",
      "metadata": {
        "id": "SLb_k4PayJgu"
      },
      "source": [
        "import numpy as np\n",
        "import pandas as pd\n",
        "import matplotlib.pyplot as plt\n",
        "import seaborn as sns\n",
        "import graphviz\n",
        "from sklearn.tree import DecisionTreeClassifier, export_graphviz\n",
        "from sklearn.metrics import recall_score, precision_score, f1_score, make_scorer\n",
        "from sklearn.metrics import confusion_matrix, plot_confusion_matrix\n",
        "from sklearn.model_selection import GridSearchCV, RandomizedSearchCV"
      ],
      "execution_count": 1,
      "outputs": []
    },
    {
      "cell_type": "markdown",
      "metadata": {
        "id": "1NVw-TlkyAlV"
      },
      "source": [
        "### Loading the data"
      ]
    },
    {
      "cell_type": "code",
      "metadata": {
        "id": "MIOJvBCvZk4L"
      },
      "source": [
        "X_train = pd.read_csv(\"../data/Imbalanced_X_train.csv\", index_col = ['SK_ID_CURR'])\n",
        "y_train = pd.read_csv(\"../data/Imbalanced_y_train.csv\")\n",
        "\n",
        "X_test = pd.read_csv(\"../data/Imbalanced_X_test.csv\", index_col = ['SK_ID_CURR'])\n",
        "y_test = pd.read_csv(\"../data/Imbalanced_y_test.csv\")\n",
        "\n",
        "X_train_und = pd.read_csv('../data/Undersampled_X_train.csv', index_col = ['SK_ID_CURR'])\n",
        "y_train_und = pd.read_csv('../data/Undersampled_y_train.csv')\n",
        "\n",
        "X_test_und = pd.read_csv('../data/Rescaled_undersampled_X_test.csv', index_col = ['SK_ID_CURR'])"
      ],
      "execution_count": 2,
      "outputs": []
    },
    {
      "cell_type": "markdown",
      "metadata": {
        "id": "LppB2GeSAKG7"
      },
      "source": [
        "#1. Unbalanced dataset"
      ]
    },
    {
      "cell_type": "markdown",
      "metadata": {
        "id": "mLP9UW02Hv6V"
      },
      "source": [
        "###1.1. Training with all features"
      ]
    },
    {
      "cell_type": "code",
      "metadata": {
        "id": "otN-28hgyJgz"
      },
      "source": [
        "# Randomized search to determine the best hyperparameters\n",
        "\n",
        "params = {'criterion': ['entropy', 'gini'],\n",
        "          'max_depth': range(40, 81),\n",
        "          'min_samples_leaf': range(1, 10),\n",
        "          'min_impurity_decrease': np.linspace(0, 0.5, 10)}\n",
        "\n",
        "recall_scorer = make_scorer(recall_score)\n",
        "\n",
        "rs = RandomizedSearchCV(DecisionTreeClassifier(random_state = 42), \n",
        "                        param_distributions = params, \n",
        "                        scoring = recall_scorer,\n",
        "                        n_iter = 50,\n",
        "                        random_state = 42,\n",
        "                        verbose = 3)\n",
        "\n",
        "rs.fit(X_train, y_train)"
      ],
      "execution_count": null,
      "outputs": []
    },
    {
      "cell_type": "code",
      "metadata": {
        "colab": {
          "base_uri": "https://localhost:8080/"
        },
        "id": "s0irHqxSECoJ",
        "outputId": "9a9b20d7-6f83-4b50-e152-180e75925d00"
      },
      "source": [
        "rs.best_estimator_"
      ],
      "execution_count": 4,
      "outputs": [
        {
          "output_type": "execute_result",
          "data": {
            "text/plain": [
              "DecisionTreeClassifier(ccp_alpha=0.0, class_weight=None, criterion='entropy',\n",
              "                       max_depth=52, max_features=None, max_leaf_nodes=None,\n",
              "                       min_impurity_decrease=0.0, min_impurity_split=None,\n",
              "                       min_samples_leaf=3, min_samples_split=2,\n",
              "                       min_weight_fraction_leaf=0.0, presort='deprecated',\n",
              "                       random_state=42, splitter='best')"
            ]
          },
          "metadata": {
            "tags": []
          },
          "execution_count": 4
        }
      ]
    },
    {
      "cell_type": "code",
      "metadata": {
        "id": "ewkUJA5yEGLv"
      },
      "source": [
        "dt = rs.best_estimator_\r\n",
        "dt.fit(X_train, y_train)"
      ],
      "execution_count": null,
      "outputs": []
    },
    {
      "cell_type": "markdown",
      "metadata": {
        "id": "EpfAbtTlEqsg"
      },
      "source": [
        "Saving an image of the generated tree"
      ]
    },
    {
      "cell_type": "code",
      "metadata": {
        "colab": {
          "base_uri": "https://localhost:8080/",
          "height": 52
        },
        "id": "KeoPge1eQSAw",
        "outputId": "badf1a11-ca66-4f48-920b-44ce7f9cd6e2"
      },
      "source": [
        "# Graphic representation of the tree\n",
        "\n",
        "dot_data = export_graphviz(dt, \n",
        "                           out_file = None,\n",
        "                           feature_names = list(X_train.columns), \n",
        "                           class_names = ['normalizado', 'atrasado'],\n",
        "                           max_depth = 7,\n",
        "                           filled = True,\n",
        "                           rounded = True,\n",
        "                           leaves_parallel = True)\n",
        "\n",
        "graph = graphviz.Source(dot_data, format = \"png\") \n",
        "graph.render(\"decision_tree_depth_7\")"
      ],
      "execution_count": 36,
      "outputs": [
        {
          "output_type": "stream",
          "text": [
            "dot: graph is too large for cairo-renderer bitmaps. Scaling by 0.932789 to fit\n"
          ],
          "name": "stderr"
        },
        {
          "output_type": "execute_result",
          "data": {
            "application/vnd.google.colaboratory.intrinsic+json": {
              "type": "string"
            },
            "text/plain": [
              "'decision_tree_depth_7.png'"
            ]
          },
          "metadata": {
            "tags": []
          },
          "execution_count": 36
        }
      ]
    },
    {
      "cell_type": "markdown",
      "metadata": {
        "id": "Fweo0F7ibOL2"
      },
      "source": [
        "Evaluation"
      ]
    },
    {
      "cell_type": "code",
      "metadata": {
        "colab": {
          "base_uri": "https://localhost:8080/"
        },
        "id": "GunWISvua7Fs",
        "outputId": "cbdb95b4-4d6e-4820-d02a-f4d2b6f450df"
      },
      "source": [
        "pred = dt.predict(X_test)\r\n",
        "print('Accuracy = ', dt.score(X_test, y_test))\r\n",
        "print('Recall = ', recall_score(y_test, pred, average = None))\r\n",
        "print('Precision = ', precision_score(y_test, pred, average = None))\r\n",
        "print('F1 score = ', f1_score(y_test, pred, average = None))"
      ],
      "execution_count": 6,
      "outputs": [
        {
          "output_type": "stream",
          "text": [
            "Accuracy =  0.853608090308394\n",
            "Recall =  [0.9192856  0.11921496]\n",
            "Precision =  [0.92107702 0.11667748]\n",
            "F1 score =  [0.92018044 0.11793257]\n"
          ],
          "name": "stdout"
        }
      ]
    },
    {
      "cell_type": "markdown",
      "metadata": {
        "id": "iduc4f7U4p09"
      },
      "source": [
        "Confusion matrix"
      ]
    },
    {
      "cell_type": "code",
      "metadata": {
        "colab": {
          "base_uri": "https://localhost:8080/",
          "height": 310
        },
        "id": "HdEKP6zmZeIw",
        "outputId": "d523178a-bce2-490d-f340-50ffbe347a34"
      },
      "source": [
        "cm = plot_confusion_matrix(dt, X_test, y_test,\r\n",
        "                           display_labels = ['normalizado', 'atrasado'],\r\n",
        "                           cmap = 'rocket',\r\n",
        "                           values_format = 'g',\r\n",
        "                           normalize = 'true')\r\n",
        "cm.ax_.set_title('Matriz de confusão normalizada \\ndo dataset desbalanceado')\r\n",
        "# plt.savefig('cm.png')\r\n",
        "plt.show()"
      ],
      "execution_count": 35,
      "outputs": [
        {
          "output_type": "display_data",
          "data": {
            "image/png": "[encoded data removed]",
            "text/plain": [
              "<Figure size 432x288 with 2 Axes>"
            ]
          },
          "metadata": {
            "tags": [],
            "needs_background": "light"
          }
        }
      ]
    },
    {
      "cell_type": "markdown",
      "metadata": {
        "id": "uh-DmazkP5O3"
      },
      "source": [
        "### 1.2. Training only with categorical features"
      ]
    },
    {
      "cell_type": "code",
      "metadata": {
        "id": "rFh_StGO-NHx"
      },
      "source": [
        "cat_columns = ['NAME_CONTRACT_TYPE', 'CODE_GENDER', 'FLAG_OWN_CAR', 'FLAG_OWN_REALTY',\n",
        "               'FLAG_MOBIL', 'FLAG_EMP_PHONE', 'FLAG_WORK_PHONE', 'FLAG_CONT_MOBILE', 'FLAG_PHONE',\n",
        "               'FLAG_EMAIL', 'REG_REGION_NOT_LIVE_REGION', 'REG_REGION_NOT_WORK_REGION',\n",
        "               'LIVE_REGION_NOT_WORK_REGION', 'REG_CITY_NOT_LIVE_CITY', 'REG_CITY_NOT_WORK_CITY','LIVE_CITY_NOT_WORK_CITY']"
      ],
      "execution_count": 8,
      "outputs": []
    },
    {
      "cell_type": "code",
      "metadata": {
        "id": "cAQ6M1BQ-h1l"
      },
      "source": [
        "X_train_cat = X_train.loc[:, cat_columns]\n",
        "X_test_cat = X_test.loc[:, cat_columns]"
      ],
      "execution_count": 9,
      "outputs": []
    },
    {
      "cell_type": "code",
      "metadata": {
        "id": "En0WbRu7jr3K"
      },
      "source": [
        "# Randomized search to determine the best hyperparameters\r\n",
        "\r\n",
        "params = {'criterion': ['entropy', 'gini'],\r\n",
        "          'max_depth': range(2, X_train_cat.shape[1]),\r\n",
        "          'min_samples_split': range(2, 20),\r\n",
        "          'min_impurity_decrease': np.linspace(0, 0.5, 10)}\r\n",
        "\r\n",
        "rs_cat = RandomizedSearchCV(DecisionTreeClassifier(random_state = 42), \r\n",
        "                            param_distributions = params, \r\n",
        "                            scoring = recall_scorer,\r\n",
        "                            n_iter = 50,\r\n",
        "                            random_state = 42,\r\n",
        "                            verbose = 3)\r\n",
        "\r\n",
        "rs_cat.fit(X_train_cat, y_train)"
      ],
      "execution_count": null,
      "outputs": []
    },
    {
      "cell_type": "code",
      "metadata": {
        "colab": {
          "base_uri": "https://localhost:8080/"
        },
        "id": "M99p_RWamlqF",
        "outputId": "ddaa8eea-8e6e-46fb-a3d2-8157584eea62"
      },
      "source": [
        "rs_cat.best_estimator_"
      ],
      "execution_count": 11,
      "outputs": [
        {
          "output_type": "execute_result",
          "data": {
            "text/plain": [
              "DecisionTreeClassifier(ccp_alpha=0.0, class_weight=None, criterion='entropy',\n",
              "                       max_depth=9, max_features=None, max_leaf_nodes=None,\n",
              "                       min_impurity_decrease=0.0, min_impurity_split=None,\n",
              "                       min_samples_leaf=1, min_samples_split=9,\n",
              "                       min_weight_fraction_leaf=0.0, presort='deprecated',\n",
              "                       random_state=42, splitter='best')"
            ]
          },
          "metadata": {
            "tags": []
          },
          "execution_count": 11
        }
      ]
    },
    {
      "cell_type": "code",
      "metadata": {
        "id": "gDH-tIlfGQug"
      },
      "source": [
        "dt_cat = rs_cat.best_estimator_\r\n",
        "dt_cat.fit(X_train_cat, y_train)"
      ],
      "execution_count": null,
      "outputs": []
    },
    {
      "cell_type": "markdown",
      "metadata": {
        "id": "X7XsiwxWnxH1"
      },
      "source": [
        "Saving an image of the generated tree"
      ]
    },
    {
      "cell_type": "code",
      "metadata": {
        "colab": {
          "base_uri": "https://localhost:8080/",
          "height": 52
        },
        "id": "4zCprWe6nwRT",
        "outputId": "fdd4eb61-e913-429d-87bf-6a3ed2cfdc55"
      },
      "source": [
        "# Graphic representation of the tree\r\n",
        "\r\n",
        "dot_data = export_graphviz(dt_cat, \r\n",
        "                           out_file = None,\r\n",
        "                           feature_names = list(X_train_cat.columns), \r\n",
        "                           class_names = ['normalizado', 'atrasado'],\r\n",
        "                           max_depth = 7,\r\n",
        "                           filled = True,\r\n",
        "                           rounded = True,\r\n",
        "                           leaves_parallel = True)\r\n",
        "\r\n",
        "graph = graphviz.Source(dot_data, format = \"png\") \r\n",
        "graph.render(\"decision_tree_cat_depth_7\")"
      ],
      "execution_count": 34,
      "outputs": [
        {
          "output_type": "stream",
          "text": [
            "dot: graph is too large for cairo-renderer bitmaps. Scaling by 0.957344 to fit\n"
          ],
          "name": "stderr"
        },
        {
          "output_type": "execute_result",
          "data": {
            "application/vnd.google.colaboratory.intrinsic+json": {
              "type": "string"
            },
            "text/plain": [
              "'decision_tree_cat_depth_7.png'"
            ]
          },
          "metadata": {
            "tags": []
          },
          "execution_count": 34
        }
      ]
    },
    {
      "cell_type": "markdown",
      "metadata": {
        "id": "K9LgJNnXQOHv"
      },
      "source": [
        "Evaluation"
      ]
    },
    {
      "cell_type": "code",
      "metadata": {
        "colab": {
          "base_uri": "https://localhost:8080/"
        },
        "id": "EPxGL7fEQNdh",
        "outputId": "e77dbdfd-d855-47c7-c226-92c3e570c02c"
      },
      "source": [
        "pred_cat = dt_cat.predict(X_test_cat)\r\n",
        "print('Accuracy = ', dt_cat.score(X_test_cat, y_test))\r\n",
        "print('Recall = ', recall_score(y_test, pred_cat, average = None))\r\n",
        "print('Precision = ', precision_score(y_test, pred_cat, average = None))\r\n",
        "print('F1 score = ', f1_score(y_test, pred_cat, average = None))"
      ],
      "execution_count": 13,
      "outputs": [
        {
          "output_type": "stream",
          "text": [
            "Accuracy =  0.9178559376462776\n",
            "Recall =  [9.99916985e-01 2.65216815e-04]\n",
            "Precision =  [0.9179241  0.22222222]\n",
            "F1 score =  [9.57167832e-01 5.29801325e-04]\n"
          ],
          "name": "stdout"
        }
      ]
    },
    {
      "cell_type": "markdown",
      "metadata": {
        "id": "EuD10IjS5SiW"
      },
      "source": [
        "Confusion matrix"
      ]
    },
    {
      "cell_type": "code",
      "metadata": {
        "colab": {
          "base_uri": "https://localhost:8080/",
          "height": 310
        },
        "id": "beqdAQAx5SKU",
        "outputId": "2da6cb92-14aa-4278-ed5c-6c371f592c78"
      },
      "source": [
        "cm_cat = plot_confusion_matrix(dt_cat, X_test_cat, y_test,\n",
        "                               display_labels = ['normalizado', 'atrasado'],\n",
        "                               cmap = 'rocket',\n",
        "                               values_format = 'g',\n",
        "                               normalize = 'true')\n",
        "cm_cat.ax_.set_title('Matriz de confusão normalizada \\n(usando somente atributos categóricos do dataset desbalanceado)')\n",
        "# plt.savefig('cm_cat.png')\n",
        "plt.show()"
      ],
      "execution_count": 33,
      "outputs": [
        {
          "output_type": "display_data",
          "data": {
            "image/png": "[encoded data removed]",
            "text/plain": [
              "<Figure size 432x288 with 2 Axes>"
            ]
          },
          "metadata": {
            "tags": [],
            "needs_background": "light"
          }
        }
      ]
    },
    {
      "cell_type": "markdown",
      "metadata": {
        "id": "q00A5sZ_DVgH"
      },
      "source": [
        "#2. Balanced dataset"
      ]
    },
    {
      "cell_type": "markdown",
      "metadata": {
        "id": "6Ew-gNFaP5Jb"
      },
      "source": [
        "###2.1. Training with all features"
      ]
    },
    {
      "cell_type": "code",
      "metadata": {
        "id": "aJF-JVlwDX4y"
      },
      "source": [
        "# Randomized search to determine the best hyperparameters\r\n",
        "\r\n",
        "params = {'criterion': ['entropy', 'gini'],\r\n",
        "          'max_depth': range(2, X_train_und.shape[1]),\r\n",
        "          'min_samples_leaf': range(1, 21),\r\n",
        "          'min_impurity_decrease': np.linspace(0, 0.5, 10)}\r\n",
        "\r\n",
        "rs_und = RandomizedSearchCV(DecisionTreeClassifier(random_state = 42), \r\n",
        "                            param_distributions = params, \r\n",
        "                            scoring = recall_scorer,\r\n",
        "                            n_iter = 50,\r\n",
        "                            random_state = 42,\r\n",
        "                            verbose = 3)\r\n",
        "\r\n",
        "rs_und.fit(X_train, y_train)"
      ],
      "execution_count": null,
      "outputs": []
    },
    {
      "cell_type": "code",
      "metadata": {
        "colab": {
          "base_uri": "https://localhost:8080/"
        },
        "id": "6EwWGcjYQXOG",
        "outputId": "c9bd7fec-373c-4270-e203-f6079ffa2d2b"
      },
      "source": [
        "rs_und.best_estimator_"
      ],
      "execution_count": 17,
      "outputs": [
        {
          "output_type": "execute_result",
          "data": {
            "text/plain": [
              "DecisionTreeClassifier(ccp_alpha=0.0, class_weight=None, criterion='gini',\n",
              "                       max_depth=72, max_features=None, max_leaf_nodes=None,\n",
              "                       min_impurity_decrease=0.0, min_impurity_split=None,\n",
              "                       min_samples_leaf=7, min_samples_split=2,\n",
              "                       min_weight_fraction_leaf=0.0, presort='deprecated',\n",
              "                       random_state=42, splitter='best')"
            ]
          },
          "metadata": {
            "tags": []
          },
          "execution_count": 17
        }
      ]
    },
    {
      "cell_type": "code",
      "metadata": {
        "id": "kd5oCpExQbmN"
      },
      "source": [
        "dt_und = rs_und.best_estimator_\r\n",
        "dt_und.fit(X_train_und, y_train_und)"
      ],
      "execution_count": null,
      "outputs": []
    },
    {
      "cell_type": "markdown",
      "metadata": {
        "id": "5ay5aN8kn9xd"
      },
      "source": [
        "Saving an image of the generated tree"
      ]
    },
    {
      "cell_type": "code",
      "metadata": {
        "colab": {
          "base_uri": "https://localhost:8080/",
          "height": 35
        },
        "id": "60cFVn_pn-KW",
        "outputId": "695728de-3f6c-45f3-8245-9709788bcdd4"
      },
      "source": [
        "# Graphic representation of the tree\r\n",
        "\r\n",
        "dot_data = export_graphviz(dt_und, \r\n",
        "                           out_file = None,\r\n",
        "                           feature_names = list(X_train_und.columns), \r\n",
        "                           class_names = ['normalizado', 'atrasado'],\r\n",
        "                           max_depth = 7,\r\n",
        "                           filled = True,\r\n",
        "                           rounded = True,\r\n",
        "                           leaves_parallel = True)\r\n",
        "\r\n",
        "graph = graphviz.Source(dot_data, format = \"png\") \r\n",
        "graph.render(\"decision_tree_und_depth_7\")"
      ],
      "execution_count": 32,
      "outputs": [
        {
          "output_type": "execute_result",
          "data": {
            "application/vnd.google.colaboratory.intrinsic+json": {
              "type": "string"
            },
            "text/plain": [
              "'decision_tree_und_depth_7.png'"
            ]
          },
          "metadata": {
            "tags": []
          },
          "execution_count": 32
        }
      ]
    },
    {
      "cell_type": "markdown",
      "metadata": {
        "id": "wINk7wEpQudS"
      },
      "source": [
        "Evaluation"
      ]
    },
    {
      "cell_type": "code",
      "metadata": {
        "colab": {
          "base_uri": "https://localhost:8080/"
        },
        "id": "WY2sIlUgQl3V",
        "outputId": "a0617207-854e-426b-9306-9a46c137ac71"
      },
      "source": [
        "pred_und = dt_und.predict(X_test_und)\r\n",
        "print('Accuracy = ', dt_und.score(X_test_und, y_test))\r\n",
        "print('Recall = ', recall_score(y_test, pred_und, average = None))\r\n",
        "print('Precision = ', precision_score(y_test, pred_und, average = None))\r\n",
        "print('F1 score = ', f1_score(y_test, pred_und, average = None))"
      ],
      "execution_count": 19,
      "outputs": [
        {
          "output_type": "stream",
          "text": [
            "Accuracy =  0.2141776340855404\n",
            "Recall =  [0.15800147 0.8423286 ]\n",
            "Precision =  [0.91806781 0.08211917]\n",
            "F1 score =  [0.26960358 0.14964897]\n"
          ],
          "name": "stdout"
        }
      ]
    },
    {
      "cell_type": "markdown",
      "metadata": {
        "id": "MCEPb9MgR3jQ"
      },
      "source": [
        "Confusion matrix"
      ]
    },
    {
      "cell_type": "code",
      "metadata": {
        "colab": {
          "base_uri": "https://localhost:8080/",
          "height": 310
        },
        "id": "fIThVXIqRgbu",
        "outputId": "52d97b17-f10c-449d-eaab-a9d5524b3de1"
      },
      "source": [
        "cm_und = plot_confusion_matrix(dt_und, X_test_und, y_test,\r\n",
        "                               display_labels = ['normalizado', 'atrasado'],\r\n",
        "                               cmap = 'rocket',\r\n",
        "                               values_format = 'g',\r\n",
        "                               normalize = 'true')\r\n",
        "cm_und.ax_.set_title('Matriz de confusão normalizada \\ndo dataset balanceado')\r\n",
        "# plt.savefig('cm_und.png')\r\n",
        "plt.show()"
      ],
      "execution_count": 31,
      "outputs": [
        {
          "output_type": "display_data",
          "data": {
            "image/png": "[encoded data removed]",
            "text/plain": [
              "<Figure size 432x288 with 2 Axes>"
            ]
          },
          "metadata": {
            "tags": [],
            "needs_background": "light"
          }
        }
      ]
    },
    {
      "cell_type": "markdown",
      "metadata": {
        "id": "SkVHVtwWS0qU"
      },
      "source": [
        "###2.2. Training only with categorical features"
      ]
    },
    {
      "cell_type": "code",
      "metadata": {
        "id": "qRGGOxW7S0JO"
      },
      "source": [
        "X_train_und_cat = X_train_und.loc[:, cat_columns]\r\n",
        "X_test_und_cat = X_test_und.loc[:, cat_columns]"
      ],
      "execution_count": 21,
      "outputs": []
    },
    {
      "cell_type": "code",
      "metadata": {
        "id": "3LWKVcApTKz-"
      },
      "source": [
        "# Randomized search to determine the best hyperparameters\r\n",
        "\r\n",
        "params = {'criterion': ['entropy', 'gini'],\r\n",
        "          'max_depth': range(2, X_train_und_cat.shape[1]),\r\n",
        "          'min_samples_split': range(2, 20),\r\n",
        "          'min_impurity_decrease': np.linspace(0, 0.5, 10)}\r\n",
        "\r\n",
        "rs_und_cat = RandomizedSearchCV(DecisionTreeClassifier(random_state = 42), \r\n",
        "                                param_distributions = params, \r\n",
        "                                scoring = recall_scorer,\r\n",
        "                                n_iter = 50,\r\n",
        "                                random_state = 42,\r\n",
        "                                verbose = 3)\r\n",
        "\r\n",
        "rs_und_cat.fit(X_train_und_cat, y_train_und)"
      ],
      "execution_count": null,
      "outputs": []
    },
    {
      "cell_type": "code",
      "metadata": {
        "colab": {
          "base_uri": "https://localhost:8080/"
        },
        "id": "e1uqY692TYRd",
        "outputId": "b4d35bb7-3a57-43e6-fe84-1b529ff10210"
      },
      "source": [
        "rs_und_cat.best_estimator_"
      ],
      "execution_count": 23,
      "outputs": [
        {
          "output_type": "execute_result",
          "data": {
            "text/plain": [
              "DecisionTreeClassifier(ccp_alpha=0.0, class_weight=None, criterion='entropy',\n",
              "                       max_depth=3, max_features=None, max_leaf_nodes=None,\n",
              "                       min_impurity_decrease=0.0, min_impurity_split=None,\n",
              "                       min_samples_leaf=1, min_samples_split=11,\n",
              "                       min_weight_fraction_leaf=0.0, presort='deprecated',\n",
              "                       random_state=42, splitter='best')"
            ]
          },
          "metadata": {
            "tags": []
          },
          "execution_count": 23
        }
      ]
    },
    {
      "cell_type": "code",
      "metadata": {
        "id": "mB-2RaTcTaqE"
      },
      "source": [
        "dt_und_cat = rs_und_cat.best_estimator_\r\n",
        "dt_und_cat.fit(X_train_und_cat, y_train_und)"
      ],
      "execution_count": null,
      "outputs": []
    },
    {
      "cell_type": "markdown",
      "metadata": {
        "id": "ilpPTqknoLdy"
      },
      "source": [
        "Saving an image of the generated tree"
      ]
    },
    {
      "cell_type": "code",
      "metadata": {
        "colab": {
          "base_uri": "https://localhost:8080/",
          "height": 35
        },
        "id": "kaAvimS2oLv5",
        "outputId": "05d9683f-ca71-4bcf-d81c-cd36f7792928"
      },
      "source": [
        "# Graphic representation of the tree\r\n",
        "\r\n",
        "dot_data = export_graphviz(dt_und_cat, \r\n",
        "                           out_file = None,\r\n",
        "                           feature_names = list(X_train_und_cat.columns), \r\n",
        "                           class_names = ['normalizado', 'atrasado'],\r\n",
        "                           max_depth = 7,\r\n",
        "                           filled = True,\r\n",
        "                           rounded = True,\r\n",
        "                           leaves_parallel = True)\r\n",
        "\r\n",
        "graph = graphviz.Source(dot_data, format = \"png\") \r\n",
        "graph.render(\"decision_tree_und_cat_depth_7\")"
      ],
      "execution_count": 29,
      "outputs": [
        {
          "output_type": "execute_result",
          "data": {
            "application/vnd.google.colaboratory.intrinsic+json": {
              "type": "string"
            },
            "text/plain": [
              "'decision_tree_und_cat_depth_7.png'"
            ]
          },
          "metadata": {
            "tags": []
          },
          "execution_count": 29
        }
      ]
    },
    {
      "cell_type": "markdown",
      "metadata": {
        "id": "nzOjKqIFToYd"
      },
      "source": [
        "Evaluation"
      ]
    },
    {
      "cell_type": "code",
      "metadata": {
        "colab": {
          "base_uri": "https://localhost:8080/"
        },
        "id": "hCIyXd_ATkMD",
        "outputId": "606c9460-c973-4713-b269-5c0d0df0b94e"
      },
      "source": [
        "pred_und_cat = dt_und_cat.predict(X_test_und_cat)\r\n",
        "print('Accuracy = ', dt_und_cat.score(X_test_und_cat, y_test))\r\n",
        "print('Recall = ', recall_score(y_test, pred_und_cat, average = None))\r\n",
        "print('Precision = ', precision_score(y_test, pred_und_cat, average = None))\r\n",
        "print('F1 score = ', f1_score(y_test, pred_und_cat, average = None))"
      ],
      "execution_count": 25,
      "outputs": [
        {
          "output_type": "stream",
          "text": [
            "Accuracy =  0.45505807561259703\n",
            "Recall =  [0.44637224 0.55218141]\n",
            "Precision =  [0.91766628 0.08189274]\n",
            "F1 score =  [0.60059998 0.14263205]\n"
          ],
          "name": "stdout"
        }
      ]
    },
    {
      "cell_type": "markdown",
      "metadata": {
        "id": "Hm65hycBT4uy"
      },
      "source": [
        "Confusion matrix"
      ]
    },
    {
      "cell_type": "code",
      "metadata": {
        "colab": {
          "base_uri": "https://localhost:8080/",
          "height": 310
        },
        "id": "I3X77kTKT2Lm",
        "outputId": "889185e8-8a16-4fd1-d416-fe45c8016f03"
      },
      "source": [
        "cm_und_cat = plot_confusion_matrix(dt_und_cat, X_test_und_cat, y_test,\r\n",
        "                                   display_labels = ['normalizado', 'atrasado'],\r\n",
        "                                   cmap = 'rocket',\r\n",
        "                                   values_format = 'g',\r\n",
        "                                   normalize = 'true')\r\n",
        "cm_und_cat.ax_.set_title('Matriz de confusão normalizada \\n(usando somente atributos categóricos do dataset balanceado)')\r\n",
        "# plt.savefig('cm_und_cat.png')\r\n",
        "plt.show()"
      ],
      "execution_count": 28,
      "outputs": [
        {
          "output_type": "display_data",
          "data": {
            "image/png": "[encoded data removed]",
            "text/plain": [
              "<Figure size 432x288 with 2 Axes>"
            ]
          },
          "metadata": {
            "tags": [],
            "needs_background": "light"
          }
        }
      ]
    }
  ]
}